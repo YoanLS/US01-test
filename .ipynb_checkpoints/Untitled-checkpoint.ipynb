{
 "cells": [
  {
   "cell_type": "code",
   "execution_count": 15,
   "metadata": {},
   "outputs": [
    {
     "name": "stdout",
     "output_type": "stream",
     "text": [
      "['Bran', 'Jon Snow']\n"
     ]
    }
   ],
   "source": [
    "import spacy\n",
    "import networkx as nx\n",
    "\n",
    "G = nx.Graph()\n",
    "\n",
    "nlp = spacy.load('en_core_web_sm')\n",
    "\n",
    "chapter='''\n",
    "\t\"Or been driven away,\" their father said, looking at the sixth pup. His fur was white, where the rest of the litter was grey. His eyes were as red as the blood of the ragged man who had died that morning. Bran thought it curious that this pup alone would have opened his eyes while the others were still blind.\n",
    "\t\"An albino,\" Theon Greyjoy said with wry amusement. \"This one will die even faster than the others.\"\n",
    "\tJon Snow gave his father's ward a long, chilling look. \"I think not, Greyjoy,\" he said. \"This one belongs to me.\"\n",
    "'''\n",
    "\n",
    "characters = []\n",
    "doc = nlp(chapter)\n",
    "for ent in doc.ents:\n",
    "    if ent.label_ == 'PERSON':\n",
    "        G.add_node(ent.text)\n",
    "        characters.append(ent.text)\n",
    "\n",
    "print(characters)"
   ]
  },
  {
   "cell_type": "code",
   "execution_count": 17,
   "metadata": {},
   "outputs": [
    {
     "name": "stdout",
     "output_type": "stream",
     "text": [
      "[('Bran', 'Jon Snow')]\n"
     ]
    }
   ],
   "source": [
    "import itertools\n",
    "print(list(itertools.combinations(characters, 2)))"
   ]
  },
  {
   "cell_type": "code",
   "execution_count": null,
   "metadata": {},
   "outputs": [],
   "source": []
  }
 ],
 "metadata": {
  "kernelspec": {
   "display_name": "Python 3",
   "language": "python",
   "name": "python3"
  },
  "language_info": {
   "codemirror_mode": {
    "name": "ipython",
    "version": 3
   },
   "file_extension": ".py",
   "mimetype": "text/x-python",
   "name": "python",
   "nbconvert_exporter": "python",
   "pygments_lexer": "ipython3",
   "version": "3.7.0"
  }
 },
 "nbformat": 4,
 "nbformat_minor": 2
}
